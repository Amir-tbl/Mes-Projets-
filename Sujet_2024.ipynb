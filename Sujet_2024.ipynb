{
 "cells": [
  {
   "cell_type": "markdown",
   "metadata": {
    "deletable": false,
    "editable": false,
    "run_control": {
     "frozen": true
    }
   },
   "source": [
    "# <center> Etude de communautés dans un réseau social</center>\n",
    "<center> SAE 1.01 / 2024 - 25 </center>\n",
    "\n"
   ]
  },
  {
   "cell_type": "markdown",
   "metadata": {
    "deletable": false,
    "editable": false,
    "run_control": {
     "frozen": true
    }
   },
   "source": [
    "Cette SAE est à faire en **binôme**.\n",
    "\n",
    "**Calendrier**\n",
    "- Un contrôle de 2h en lien avec le contenu de cette SAE aura lieu le mercredi **30 octobre** 2024.\n",
    "- Le projet est à rendre le mardi **29 octobre** 2024. Les modalités de rendu vous seront précisées par votre enseignant.\n",
    "\n",
    "**Evaluation**\n",
    "- Le projet comptera pour 40% de la note de SAE 1.01. <BR>\n",
    "    Il sera particulièrement tenu compte de la qualité du code, des **commentaires** et **docstrings**, des fonctions de **tests unitaires** pour les fonctions renvoyant des résultats. <BR><BR>\n",
    "    \n",
    "- Le contrôle compte pour 60% de la note finale."
   ]
  },
  {
   "cell_type": "markdown",
   "metadata": {
    "deletable": false,
    "editable": false,
    "run_control": {
     "frozen": true
    }
   },
   "source": [
    "## <center> Sujet </center>\n",
    "\n",
    "Une *communauté* est un ensemble de personnes développant des interactions dans un réseau social.\n",
    "\n",
    "Dans ce projet, on étudie des communautés modélisées sous différentes formes. Pour cela, on développe des fonctions permettant d'extraire des informations relatives à ces réseaux. "
   ]
  },
  {
   "cell_type": "markdown",
   "metadata": {
    "deletable": false,
    "editable": false,
    "run_control": {
     "frozen": true
    }
   },
   "source": [
    "On modélise, dans un premier temps, les interactions entre personnes dans un tableau `amis` de chaînes de caractères contenant les prénoms des membres du réseau et tel que `amis[2*i]` a des interactions avec `amis[2*i+1]`.\n",
    "\n",
    "On suppose que chaque interaction n'est décrite qu'une seule fois dans le tableau, et qu'une personne n'a pas d'interaction avec elle-même.\n",
    "\n",
    "**Exemple** : "
   ]
  },
  {
   "cell_type": "code",
   "execution_count": null,
   "metadata": {
    "deletable": false,
    "editable": false
   },
   "outputs": [],
   "source": [
    "amis = [\"Alice\", \"Bob\", \"Alice\", \"Charlie\", \"Bob\", \"Denis\"]"
   ]
  },
  {
   "cell_type": "markdown",
   "metadata": {
    "deletable": false,
    "editable": false,
    "run_control": {
     "frozen": true
    }
   },
   "source": [
    "Ici, \n",
    "- Alice a des interactions Bob et Charlie, \n",
    "- Bob a des intractions avec Alice et Denis,\n",
    "- Charlie a des interactions avec Alice,\n",
    "- Denis a des interactions avec Bob."
   ]
  },
  {
   "cell_type": "markdown",
   "metadata": {
    "deletable": false,
    "editable": false,
    "run_control": {
     "frozen": true
    }
   },
   "source": [
    "#### Question préliminaire : Modélisation d'un réseau par un tableau\n",
    "\n",
    "Muriel, Yasmine et Joël sont amis. Yasmine est amie avec Thomas. \n",
    "Joël, Nassim, Andrea et Ali sont amis. Thomas est ami de Daria et Carole. Thierry, Axel et Léo sont amis. Léo est ami de Valentin qui est ami d'Andrea.\n",
    "\n",
    "- Construire un tableau `p_amis` qui modélise ce réseau d'amitié en selon le principe qui vient d'être décrit."
   ]
  },
  {
   "cell_type": "code",
   "execution_count": 16,
   "metadata": {},
   "outputs": [
    {
     "name": "stdout",
     "output_type": "stream",
     "text": [
      "Yasmine Muriel\n",
      "Yasmine Thomas\n",
      "Daria Thomas\n",
      "Carole Thomas\n",
      "Carole Daria\n",
      "Joël Yasmine\n",
      "Joël Muriel\n",
      "Joël Nassim\n",
      "Joël Ali\n",
      "Joël Andrea\n",
      "Valentin Andrea\n",
      "Leo Valentin\n",
      "Leo Thierry\n",
      "Leo Axel\n",
      "Thierry Axel\n",
      "Andrea Ali\n",
      "Nassim Ali\n"
     ]
    }
   ],
   "source": [
    "p_amis = [\"Yasmine\", \"Muriel\", \"Yasmine\", \"Thomas\", \"Daria\",\"Thomas\",\"Carole\",\"Thomas\",\"Carole\", \"Daria\",\"Joël\",\"Yasmine\", \"Joël\",\"Muriel\",\"Joël\", \"Nassim\",\"Joël\", \"Ali\", \"Joël\", \"Andrea\", \"Valentin\", \"Andrea\",\"Leo\", \"Valentin\",\"Leo\",\"Thierry\", \"Leo\", \"Axel\", \"Thierry\", \"Axel\", \"Andrea\", \"Ali\", \"Nassim\", \"Ali\"]\n",
    "\n",
    "\"\"\" \n",
    "Fonction qui teste le principe du tableau de l'exemple.\n",
    "\"\"\"\n",
    "\n",
    "def test_amis(tab) :\n",
    "    i = 0\n",
    "    while i < len(tab) and 2*i <= len(tab) and (2*i+1) < len(tab) : #tant que i, 2*i et 2*i+1 sont inferieur a la taille du tableau alors la boucle continue\n",
    "        print(tab[2*i], tab[2*i+1]) #on affiche les deux amis concernés \n",
    "        i+=1\n",
    "        \n",
    "test_amis(p_amis)\n",
    "\n"
   ]
  },
  {
   "cell_type": "markdown",
   "metadata": {
    "deletable": false,
    "editable": false,
    "run_control": {
     "frozen": true
    }
   },
   "source": [
    "#### Question 1 : Nombre d'amis d'une personne\n",
    "\n",
    "- Étant donné un tableau `amis`, écrire une fonction `nb_amis(amis, prenom)` qui retourne le nombre d'amis de `prenom` à partir des données du tableau `amis`. "
   ]
  },
  {
   "cell_type": "code",
   "execution_count": 4,
   "metadata": {},
   "outputs": [
    {
     "data": {
      "text/plain": [
       "5"
      ]
     },
     "execution_count": 4,
     "metadata": {},
     "output_type": "execute_result"
    }
   ],
   "source": [
    "def nb_amis(amis, prenom) :\n",
    "    nbamis = 0\n",
    "    i = 0\n",
    "    while i < len(amis) :\n",
    "        if amis[i] == prenom :\n",
    "            nbamis += 1\n",
    "        i+=1\n",
    "    return nbamis\n",
    "\n",
    "nb_amis(p_amis, \"Joël\")\n",
    "\n",
    "\n",
    "\n",
    "\n"
   ]
  },
  {
   "cell_type": "markdown",
   "metadata": {
    "deletable": false,
    "editable": false,
    "run_control": {
     "frozen": true
    }
   },
   "source": [
    "#### Question 2 : Nombre de membres d'un réseau social \n",
    "\n",
    "- Ecrire une fonction `taille_reseau(amis)` qui à partir d'un tableau `amis`retourne le nombre de personnes distinctes participant à ce réseau social."
   ]
  },
  {
   "cell_type": "code",
   "execution_count": null,
   "metadata": {},
   "outputs": [],
   "source": [
    "def taille_reseau(amis) :\n",
    "    i = 0\n",
    "    tab = [] \n",
    "    while i < len(amis) :\n",
    "        ami = amis[i]\n",
    "        if ami not in tab :\n",
    "            i += 1\n",
    "            tab.append(ami)\n",
    "        else :\n",
    "            i +=1\n",
    "    return len(tab)\n",
    "\n",
    "print(taille_reseau(p_amis))\n",
    "        \n",
    "\n",
    "\n",
    "\n"
   ]
  },
  {
   "cell_type": "markdown",
   "metadata": {
    "deletable": false,
    "editable": false,
    "run_control": {
     "frozen": true
    }
   },
   "source": [
    "#### Question 3 :  Lecture des données d'un réseau à partir d'un fichier\n",
    "On suppose que les données sur un réseau social sont stockées dans un fichier CSV de la manière suivante :\n",
    "```\n",
    "prenom1;prenom2\n",
    "prenom3;prenom4\n",
    "prenom5;prenom6\n",
    "...\n",
    "```\n",
    "Autrement dit, chaque ligne du fichier contient une paire de prénoms séparés par un `';'` correspondant à deux personnes ayant des interactions. \n",
    "\n",
    "**NB** : Quatre fichiers CSV de ce type sont fournis dans le répertoire `files/`, il s'agit des fichiers`Communaute1.csv`, `Communaute2.csv`,`Communaute3.csv` et `Communaute4.csv`. \n",
    "Il est recommandé d'en fabriquer d'autres. \n",
    "\n",
    "- Ecrire une fonction `lecture_reseau(path)` prenant en paramètre un chemin vers un tel fichier CSV et retournant un tableau modélisant les interactions entre les personnes du fichier."
   ]
  },
  {
   "cell_type": "code",
   "execution_count": 30,
   "metadata": {},
   "outputs": [
    {
     "data": {
      "text/plain": [
       "68"
      ]
     },
     "execution_count": 30,
     "metadata": {},
     "output_type": "execute_result"
    }
   ],
   "source": [
    "def lecture_reseau(path) :\n",
    "    tab_amis = []\n",
    "    fichier = open(str(path), \"r\")\n",
    "    amis = fichier.readline()\n",
    "    i = 0\n",
    "    while amis != \"\" :\n",
    "        amis =amis.strip()\n",
    "        tab_amis.append(amis)\n",
    "        amis = fichier.readline()    \n",
    "    fichier.close()\n",
    "    return tab_amis\n",
    "\n",
    "len(lecture_reseau(\"files/Communaute1.csv\"))\n",
    "\n",
    "\n",
    "    \n",
    "    \n",
    "    \n",
    "\n",
    "\n",
    "\n",
    "\n"
   ]
  },
  {
   "cell_type": "markdown",
   "metadata": {
    "deletable": false,
    "editable": false,
    "run_control": {
     "frozen": true
    }
   },
   "source": [
    "#### Question  4 :  Données d'un réseau dupliquées dans un fichier\n",
    "On suppose toujours que les données sur un réseau social sont stockées dans un fichier CSV mais certaines lignes du fichier contiennent les mêmes informations.  \n",
    "\n",
    "**NB** : Quatre fichiers CSV de ce type sont fournis dans le répertoire `filesbis/`, il s'agit des fichiers`Communaute1bis.csv`, `Communaute2bis.csv`,`Communaute3bis.csv` et `Communaute4bis.csv`. \n",
    "Il est recommandé d'en fabriquer d'autres. \n",
    "\n",
    "- Ecrire une fonction `lecture_reseau_bis(path)` prenant en paramètre un chemin vers un tel fichier CSV et retournant un tableau modélisant les interactions entre les personnes du fichier en éliminant les répétitions."
   ]
  },
  {
   "cell_type": "code",
   "execution_count": 29,
   "metadata": {},
   "outputs": [
    {
     "name": "stdout",
     "output_type": "stream",
     "text": [
      "['Giedrius;Mady', 'Kirsa;Vittore', 'Barbra;Faizel', 'Vittorio;Vittore', 'Louis;Placide', 'Vittorio;Barbra', 'Cloe;Björn', 'Vittore;Barbra', 'Mady;Rufino', 'Cloe;Vittorio', 'Vittorio;Placide', 'Olavi;Rufino', 'Vittore;Cloe', 'Teodor;Cloe', 'Louis;Cloe', 'Idelle;Mady', 'Illtyd;Giedrius', 'Teodor;Olavi', 'Vittore;Mady', 'Rufino;Giedrius', 'Placide;Louis', 'Louis;Vittorio', 'Giedrius;Glenys', 'Björn;Olavi', 'Faizel;Placide', 'Rufino;Illtyd', 'Kirsa;Vittorio', 'Mady;Placide', 'Illtyd;Olavi', 'Cloe;Mady', 'Rufino;Vittorio', 'Placide;Rufino', 'Giedrius;Illtyd', 'Rufino;Teodor', 'Placide;Jakob', 'Barbra;Kirsa', 'Idelle;Cloe', 'Rufino;Faizel', 'Rufino;Louis', 'Björn;Cloe', 'Vittorio;Olavi', 'Vittorio;Mady', 'Glenys;Cloe', 'Björn;Idelle', 'Mady;Björn', 'Barbra;Vittorio', 'Louis;Björn', 'Mady;Vittorio', 'Olavi;Barbra', 'Björn;Giedrius', 'Faizel;Barbra', 'Marwa;Idelle', 'Placide;Olavi', 'Olavi;Placide', 'Cain;Vittorio', 'Jakob;Kirsa', 'Barbra;Marwa', 'Vittorio;Louis', 'Idelle;Illtyd', 'Louis;Giedrius', 'Mady;Barbra', 'Barbra;Rufino', 'Cloe;Barbra', 'Rufino;Björn', 'Björn;Faizel', 'Cloe;Vittore', 'Vittore;Björn', 'Björn;Teodor', 'Louis;Rufino', 'Olavi;Teodor', 'Teodor;Mady', 'Faizel;Olavi', 'Cloe;Idelle', 'Barbra;Louis', 'Barbra;Vittore', 'Giedrius;Vittorio', 'Placide;Cain', 'Vittore;Louis', 'Mady;Jakob', 'Björn;Mady', 'Placide;Cloe', 'Illtyd;Rufino', 'Olavi;Louis']\n"
     ]
    }
   ],
   "source": [
    "def lecture_reseau_bis(path) :\n",
    "    tab_amis = []\n",
    "    fichier = open(str(path), \"r\")\n",
    "    amis = fichier.readline()\n",
    "    i = 0\n",
    "    while amis != \"\" :\n",
    "        amis =amis.strip()\n",
    "        if amis in tab_amis :\n",
    "            amis = fichier.readline()\n",
    "        else :\n",
    "            tab_amis.append(amis)\n",
    "            amis = fichier.readline()\n",
    "    fichier.close()\n",
    "    return tab_amis\n",
    "\n",
    "\n",
    "print(lecture_reseau_bis(\"filesbis/Communaute1bis.csv\"))\n",
    "\n",
    "\n",
    "\n",
    "\n"
   ]
  },
  {
   "cell_type": "markdown",
   "metadata": {
    "deletable": false,
    "editable": false,
    "run_control": {
     "frozen": true
    }
   },
   "source": [
    "#### Question 5 : Modélisation d'un réseau par un dictionnaire\n",
    "On préfère pour la suite, utiliser une modélisation du réseau social par un dictionnaire dont les clés sont les prénoms des personnes du réseau et la valeur associé à une clé est le tableau des amis de la personne indiquée par la clé.\n",
    "\n",
    "- A partir d'un tableau `amis` modélisant les interactions entre personnes d'un réseau, écrire une fonction `dico_reseau(amis)` qui retourne un dictionnaire dont les clés sont les prénoms des membres du réseau et les valeurs le tableau de leurs amis."
   ]
  },
  {
   "cell_type": "code",
   "execution_count": null,
   "metadata": {},
   "outputs": [],
   "source": [
    "\n",
    "\n",
    "\n",
    "\n",
    "\n"
   ]
  },
  {
   "cell_type": "markdown",
   "metadata": {},
   "source": [
    "#### Question 6 : Nombre d'amis des personnes les plus populaires\n",
    "\n",
    "- A partir d'un dictionnaire `dico_reseau` modélisant les interactions dans un réseau d'amis, écrire une fonction `nb_amis_plus_pop (dico_reseau)` qui retourne le nombre d'amis des personnes les plus populaires du réseau."
   ]
  },
  {
   "cell_type": "code",
   "execution_count": null,
   "metadata": {},
   "outputs": [],
   "source": [
    "\n",
    "\n",
    "\n",
    "\n",
    "\n"
   ]
  },
  {
   "cell_type": "markdown",
   "metadata": {
    "deletable": false,
    "editable": false,
    "run_control": {
     "frozen": true
    }
   },
   "source": [
    "#### Question 7 : Personnes les plus populaires\n",
    "\n",
    "- A partir d'un dictionnaire `dico_reseau` modélisant les interactions dans un réseau d'amis, écrire une fonction `les_plus_pop (dico_reseau)` qui retourne un tableau contenant les prénoms de toutes les personnes les plus populaires du réseau."
   ]
  },
  {
   "cell_type": "code",
   "execution_count": null,
   "metadata": {},
   "outputs": [],
   "source": [
    "\n",
    "\n",
    "\n",
    "\n",
    "\n"
   ]
  }
 ],
 "metadata": {
  "kernelspec": {
   "display_name": "Python 3",
   "language": "python",
   "name": "python3"
  },
  "language_info": {
   "codemirror_mode": {
    "name": "ipython",
    "version": 3
   },
   "file_extension": ".py",
   "mimetype": "text/x-python",
   "name": "python",
   "nbconvert_exporter": "python",
   "pygments_lexer": "ipython3",
   "version": "3.8.10"
  },
  "latex_envs": {
   "LaTeX_envs_menu_present": true,
   "autoclose": false,
   "autocomplete": true,
   "bibliofile": "biblio.bib",
   "cite_by": "apalike",
   "current_citInitial": 1,
   "eqLabelWithNumbers": true,
   "eqNumInitial": 1,
   "hotkeys": {
    "equation": "Ctrl-E",
    "itemize": "Ctrl-I"
   },
   "labels_anchors": false,
   "latex_user_defs": false,
   "report_style_numbering": false,
   "user_envs_cfg": false
  }
 },
 "nbformat": 4,
 "nbformat_minor": 2
}
